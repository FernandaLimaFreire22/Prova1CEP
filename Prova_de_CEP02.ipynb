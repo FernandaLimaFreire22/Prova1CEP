{
  "nbformat": 4,
  "nbformat_minor": 0,
  "metadata": {
    "colab": {
      "provenance": [],
      "authorship_tag": "ABX9TyOCX4MrO2WXMtuvvhPQ063q",
      "include_colab_link": true
    },
    "kernelspec": {
      "name": "python3",
      "display_name": "Python 3"
    },
    "language_info": {
      "name": "python"
    }
  },
  "cells": [
    {
      "cell_type": "markdown",
      "metadata": {
        "id": "view-in-github",
        "colab_type": "text"
      },
      "source": [
        "<a href=\"https://colab.research.google.com/github/FernandaLimaFreire22/Prova1CEP/blob/main/Prova_de_CEP02.ipynb\" target=\"_parent\"><img src=\"https://colab.research.google.com/assets/colab-badge.svg\" alt=\"Open In Colab\"/></a>"
      ]
    },
    {
      "cell_type": "markdown",
      "source": [
        "# CEP com dataset Credit Card Fraud (Kaggle)\n",
        "_______________________________________________________\n",
        "### 0) Instalar pacotes necessários (se for Colab)"
      ],
      "metadata": {
        "id": "ACewIjqIPqiw"
      }
    },
    {
      "cell_type": "code",
      "source": [],
      "metadata": {
        "id": "R6nyVHZnQcsQ"
      },
      "execution_count": null,
      "outputs": []
    },
    {
      "cell_type": "code",
      "execution_count": 1,
      "metadata": {
        "id": "XGDWVNjJPhDY"
      },
      "outputs": [],
      "source": [
        "!pip -q install kaggle imbalanced-learn"
      ]
    },
    {
      "cell_type": "markdown",
      "source": [
        "### 1) Imports e configurações iniciais\n",
        "__________________________________________________________"
      ],
      "metadata": {
        "id": "1tubgCmrP6xc"
      }
    },
    {
      "cell_type": "code",
      "source": [
        "import os, json, glob, io\n",
        "import pandas as pd\n",
        "import numpy as np\n",
        "import matplotlib.pyplot as plt\n",
        "import seaborn as sns\n",
        "from IPython.display import display\n",
        "\n",
        "sns.set(style=\"whitegrid\")\n",
        "plt.rcParams['figure.figsize'] = (12,5)\n",
        "\n",
        "OUTPUT_DIR = \"/content/cep_outputs\"\n",
        "os.makedirs(OUTPUT_DIR, exist_ok=True)\n",
        "\n",
        "# -------------------------------\n",
        "# ========== PARÂMETROS ==========\n",
        "# -------------------------------\n",
        "# Se você já tem as credenciais configuradas no ambiente, comente as linhas abaixo.\n",
        "KAGGLE_USERNAME = \"fernandalimafreire2\"   # substitua se quiser (mas você já usou esse)\n",
        "KAGGLE_KEY = \"f3db58b094db2c3244697e5d0c9ae37b\"   # substitua se quiser\n",
        "\n",
        "# Qual coluna usar como medida de processo?\n",
        "MEASURE_COL = \"Amount\"   # escolha \"Amount\" ou outra coluna numérica\n",
        "USE_LOG = False          # se True, usará log(Amount+1) para formar subgrupos\n",
        "SUBGROUP_SIZE = 5        # tamanho do subgrupo (n) conforme enunciado da prova\n",
        "MAX_OBS_TO_USE = 300     # quantas observações sequenciais usar do dataset (padrão 300 -> 60 subgrupos de 5)\n",
        "# -------------------------------\n",
        "\n",
        "print(\"Output_dir:\", OUTPUT_DIR)\n",
        "print(\"Parâmetros: MEASURE_COL=\", MEASURE_COL, \"USE_LOG=\", USE_LOG, \"SUBGROUP_SIZE=\", SUBGROUP_SIZE, \"MAX_OBS_TO_USE=\", MAX_OBS_TO_USE)"
      ],
      "metadata": {
        "colab": {
          "base_uri": "https://localhost:8080/"
        },
        "id": "wwB-2T9zQAWQ",
        "outputId": "52bd297f-a3ec-4ce3-fec2-a209ad362b5f"
      },
      "execution_count": 2,
      "outputs": [
        {
          "output_type": "stream",
          "name": "stdout",
          "text": [
            "Output_dir: /content/cep_outputs\n",
            "Parâmetros: MEASURE_COL= Amount USE_LOG= False SUBGROUP_SIZE= 5 MAX_OBS_TO_USE= 300\n"
          ]
        }
      ]
    },
    {
      "cell_type": "markdown",
      "source": [
        "### 2) Configurar Kaggle credentials (escreve /root/.kaggle/kaggle.json)\n",
        "__________________________________________________________________________"
      ],
      "metadata": {
        "id": "eaLzN7kyQFjx"
      }
    },
    {
      "cell_type": "code",
      "source": [
        "os.makedirs('/root/.kaggle', exist_ok=True)\n",
        "kaggle_json_path = '/root/.kaggle/kaggle.json'\n",
        "with open(kaggle_json_path, 'w') as f:\n",
        "    json.dump({\"username\": KAGGLE_USERNAME, \"key\": KAGGLE_KEY}, f)\n",
        "os.chmod(kaggle_json_path, 0o600)"
      ],
      "metadata": {
        "id": "Z48jx1l3QWD8"
      },
      "execution_count": 3,
      "outputs": []
    },
    {
      "cell_type": "markdown",
      "source": [
        "### 3) Baixar dataset via Kaggle e carregar CSV (creditcard.csv)\n",
        "_____________________________________________________________________"
      ],
      "metadata": {
        "id": "IeyYduElQlG3"
      }
    },
    {
      "cell_type": "code",
      "source": [
        "DATA_DIR = \"/content/data\"\n",
        "os.makedirs(DATA_DIR, exist_ok=True)\n",
        "\n",
        "print(\"\\n📥 Baixando dataset do Kaggle (pode demorar alguns segundos)...\")\n",
        "!kaggle datasets download -d mlg-ulb/creditcardfraud -p {DATA_DIR} --unzip -q\n",
        "csvs = glob.glob(os.path.join(DATA_DIR, \"*.csv\"))\n",
        "if not csvs:\n",
        "    raise FileNotFoundError(\"Nenhum CSV encontrado após download. Verifique credenciais e disponibilidade.\")\n",
        "csv_path = csvs[0]\n",
        "print(\"Arquivo CSV encontrado:\", csv_path)\n",
        "\n",
        "df = pd.read_csv(csv_path)\n",
        "print(\"Dimensão do dataset:\", df.shape)\n",
        "display(df.head())"
      ],
      "metadata": {
        "colab": {
          "base_uri": "https://localhost:8080/",
          "height": 360
        },
        "id": "enPsRq2gQvEn",
        "outputId": "9c6d9019-ab0f-49d8-ae28-73c085b5d14c"
      },
      "execution_count": 4,
      "outputs": [
        {
          "output_type": "stream",
          "name": "stdout",
          "text": [
            "\n",
            "📥 Baixando dataset do Kaggle (pode demorar alguns segundos)...\n",
            "Dataset URL: https://www.kaggle.com/datasets/mlg-ulb/creditcardfraud\n",
            "License(s): DbCL-1.0\n",
            "Arquivo CSV encontrado: /content/data/creditcard.csv\n",
            "Dimensão do dataset: (284807, 31)\n"
          ]
        },
        {
          "output_type": "display_data",
          "data": {
            "text/plain": [
              "   Time        V1        V2        V3        V4        V5        V6        V7  \\\n",
              "0   0.0 -1.359807 -0.072781  2.536347  1.378155 -0.338321  0.462388  0.239599   \n",
              "1   0.0  1.191857  0.266151  0.166480  0.448154  0.060018 -0.082361 -0.078803   \n",
              "2   1.0 -1.358354 -1.340163  1.773209  0.379780 -0.503198  1.800499  0.791461   \n",
              "3   1.0 -0.966272 -0.185226  1.792993 -0.863291 -0.010309  1.247203  0.237609   \n",
              "4   2.0 -1.158233  0.877737  1.548718  0.403034 -0.407193  0.095921  0.592941   \n",
              "\n",
              "         V8        V9  ...       V21       V22       V23       V24       V25  \\\n",
              "0  0.098698  0.363787  ... -0.018307  0.277838 -0.110474  0.066928  0.128539   \n",
              "1  0.085102 -0.255425  ... -0.225775 -0.638672  0.101288 -0.339846  0.167170   \n",
              "2  0.247676 -1.514654  ...  0.247998  0.771679  0.909412 -0.689281 -0.327642   \n",
              "3  0.377436 -1.387024  ... -0.108300  0.005274 -0.190321 -1.175575  0.647376   \n",
              "4 -0.270533  0.817739  ... -0.009431  0.798278 -0.137458  0.141267 -0.206010   \n",
              "\n",
              "        V26       V27       V28  Amount  Class  \n",
              "0 -0.189115  0.133558 -0.021053  149.62      0  \n",
              "1  0.125895 -0.008983  0.014724    2.69      0  \n",
              "2 -0.139097 -0.055353 -0.059752  378.66      0  \n",
              "3 -0.221929  0.062723  0.061458  123.50      0  \n",
              "4  0.502292  0.219422  0.215153   69.99      0  \n",
              "\n",
              "[5 rows x 31 columns]"
            ],
            "text/html": [
              "\n",
              "  <div id=\"df-746eb2da-d410-431a-aac0-4abf785b7381\" class=\"colab-df-container\">\n",
              "    <div>\n",
              "<style scoped>\n",
              "    .dataframe tbody tr th:only-of-type {\n",
              "        vertical-align: middle;\n",
              "    }\n",
              "\n",
              "    .dataframe tbody tr th {\n",
              "        vertical-align: top;\n",
              "    }\n",
              "\n",
              "    .dataframe thead th {\n",
              "        text-align: right;\n",
              "    }\n",
              "</style>\n",
              "<table border=\"1\" class=\"dataframe\">\n",
              "  <thead>\n",
              "    <tr style=\"text-align: right;\">\n",
              "      <th></th>\n",
              "      <th>Time</th>\n",
              "      <th>V1</th>\n",
              "      <th>V2</th>\n",
              "      <th>V3</th>\n",
              "      <th>V4</th>\n",
              "      <th>V5</th>\n",
              "      <th>V6</th>\n",
              "      <th>V7</th>\n",
              "      <th>V8</th>\n",
              "      <th>V9</th>\n",
              "      <th>...</th>\n",
              "      <th>V21</th>\n",
              "      <th>V22</th>\n",
              "      <th>V23</th>\n",
              "      <th>V24</th>\n",
              "      <th>V25</th>\n",
              "      <th>V26</th>\n",
              "      <th>V27</th>\n",
              "      <th>V28</th>\n",
              "      <th>Amount</th>\n",
              "      <th>Class</th>\n",
              "    </tr>\n",
              "  </thead>\n",
              "  <tbody>\n",
              "    <tr>\n",
              "      <th>0</th>\n",
              "      <td>0.0</td>\n",
              "      <td>-1.359807</td>\n",
              "      <td>-0.072781</td>\n",
              "      <td>2.536347</td>\n",
              "      <td>1.378155</td>\n",
              "      <td>-0.338321</td>\n",
              "      <td>0.462388</td>\n",
              "      <td>0.239599</td>\n",
              "      <td>0.098698</td>\n",
              "      <td>0.363787</td>\n",
              "      <td>...</td>\n",
              "      <td>-0.018307</td>\n",
              "      <td>0.277838</td>\n",
              "      <td>-0.110474</td>\n",
              "      <td>0.066928</td>\n",
              "      <td>0.128539</td>\n",
              "      <td>-0.189115</td>\n",
              "      <td>0.133558</td>\n",
              "      <td>-0.021053</td>\n",
              "      <td>149.62</td>\n",
              "      <td>0</td>\n",
              "    </tr>\n",
              "    <tr>\n",
              "      <th>1</th>\n",
              "      <td>0.0</td>\n",
              "      <td>1.191857</td>\n",
              "      <td>0.266151</td>\n",
              "      <td>0.166480</td>\n",
              "      <td>0.448154</td>\n",
              "      <td>0.060018</td>\n",
              "      <td>-0.082361</td>\n",
              "      <td>-0.078803</td>\n",
              "      <td>0.085102</td>\n",
              "      <td>-0.255425</td>\n",
              "      <td>...</td>\n",
              "      <td>-0.225775</td>\n",
              "      <td>-0.638672</td>\n",
              "      <td>0.101288</td>\n",
              "      <td>-0.339846</td>\n",
              "      <td>0.167170</td>\n",
              "      <td>0.125895</td>\n",
              "      <td>-0.008983</td>\n",
              "      <td>0.014724</td>\n",
              "      <td>2.69</td>\n",
              "      <td>0</td>\n",
              "    </tr>\n",
              "    <tr>\n",
              "      <th>2</th>\n",
              "      <td>1.0</td>\n",
              "      <td>-1.358354</td>\n",
              "      <td>-1.340163</td>\n",
              "      <td>1.773209</td>\n",
              "      <td>0.379780</td>\n",
              "      <td>-0.503198</td>\n",
              "      <td>1.800499</td>\n",
              "      <td>0.791461</td>\n",
              "      <td>0.247676</td>\n",
              "      <td>-1.514654</td>\n",
              "      <td>...</td>\n",
              "      <td>0.247998</td>\n",
              "      <td>0.771679</td>\n",
              "      <td>0.909412</td>\n",
              "      <td>-0.689281</td>\n",
              "      <td>-0.327642</td>\n",
              "      <td>-0.139097</td>\n",
              "      <td>-0.055353</td>\n",
              "      <td>-0.059752</td>\n",
              "      <td>378.66</td>\n",
              "      <td>0</td>\n",
              "    </tr>\n",
              "    <tr>\n",
              "      <th>3</th>\n",
              "      <td>1.0</td>\n",
              "      <td>-0.966272</td>\n",
              "      <td>-0.185226</td>\n",
              "      <td>1.792993</td>\n",
              "      <td>-0.863291</td>\n",
              "      <td>-0.010309</td>\n",
              "      <td>1.247203</td>\n",
              "      <td>0.237609</td>\n",
              "      <td>0.377436</td>\n",
              "      <td>-1.387024</td>\n",
              "      <td>...</td>\n",
              "      <td>-0.108300</td>\n",
              "      <td>0.005274</td>\n",
              "      <td>-0.190321</td>\n",
              "      <td>-1.175575</td>\n",
              "      <td>0.647376</td>\n",
              "      <td>-0.221929</td>\n",
              "      <td>0.062723</td>\n",
              "      <td>0.061458</td>\n",
              "      <td>123.50</td>\n",
              "      <td>0</td>\n",
              "    </tr>\n",
              "    <tr>\n",
              "      <th>4</th>\n",
              "      <td>2.0</td>\n",
              "      <td>-1.158233</td>\n",
              "      <td>0.877737</td>\n",
              "      <td>1.548718</td>\n",
              "      <td>0.403034</td>\n",
              "      <td>-0.407193</td>\n",
              "      <td>0.095921</td>\n",
              "      <td>0.592941</td>\n",
              "      <td>-0.270533</td>\n",
              "      <td>0.817739</td>\n",
              "      <td>...</td>\n",
              "      <td>-0.009431</td>\n",
              "      <td>0.798278</td>\n",
              "      <td>-0.137458</td>\n",
              "      <td>0.141267</td>\n",
              "      <td>-0.206010</td>\n",
              "      <td>0.502292</td>\n",
              "      <td>0.219422</td>\n",
              "      <td>0.215153</td>\n",
              "      <td>69.99</td>\n",
              "      <td>0</td>\n",
              "    </tr>\n",
              "  </tbody>\n",
              "</table>\n",
              "<p>5 rows × 31 columns</p>\n",
              "</div>\n",
              "    <div class=\"colab-df-buttons\">\n",
              "\n",
              "  <div class=\"colab-df-container\">\n",
              "    <button class=\"colab-df-convert\" onclick=\"convertToInteractive('df-746eb2da-d410-431a-aac0-4abf785b7381')\"\n",
              "            title=\"Convert this dataframe to an interactive table.\"\n",
              "            style=\"display:none;\">\n",
              "\n",
              "  <svg xmlns=\"http://www.w3.org/2000/svg\" height=\"24px\" viewBox=\"0 -960 960 960\">\n",
              "    <path d=\"M120-120v-720h720v720H120Zm60-500h600v-160H180v160Zm220 220h160v-160H400v160Zm0 220h160v-160H400v160ZM180-400h160v-160H180v160Zm440 0h160v-160H620v160ZM180-180h160v-160H180v160Zm440 0h160v-160H620v160Z\"/>\n",
              "  </svg>\n",
              "    </button>\n",
              "\n",
              "  <style>\n",
              "    .colab-df-container {\n",
              "      display:flex;\n",
              "      gap: 12px;\n",
              "    }\n",
              "\n",
              "    .colab-df-convert {\n",
              "      background-color: #E8F0FE;\n",
              "      border: none;\n",
              "      border-radius: 50%;\n",
              "      cursor: pointer;\n",
              "      display: none;\n",
              "      fill: #1967D2;\n",
              "      height: 32px;\n",
              "      padding: 0 0 0 0;\n",
              "      width: 32px;\n",
              "    }\n",
              "\n",
              "    .colab-df-convert:hover {\n",
              "      background-color: #E2EBFA;\n",
              "      box-shadow: 0px 1px 2px rgba(60, 64, 67, 0.3), 0px 1px 3px 1px rgba(60, 64, 67, 0.15);\n",
              "      fill: #174EA6;\n",
              "    }\n",
              "\n",
              "    .colab-df-buttons div {\n",
              "      margin-bottom: 4px;\n",
              "    }\n",
              "\n",
              "    [theme=dark] .colab-df-convert {\n",
              "      background-color: #3B4455;\n",
              "      fill: #D2E3FC;\n",
              "    }\n",
              "\n",
              "    [theme=dark] .colab-df-convert:hover {\n",
              "      background-color: #434B5C;\n",
              "      box-shadow: 0px 1px 3px 1px rgba(0, 0, 0, 0.15);\n",
              "      filter: drop-shadow(0px 1px 2px rgba(0, 0, 0, 0.3));\n",
              "      fill: #FFFFFF;\n",
              "    }\n",
              "  </style>\n",
              "\n",
              "    <script>\n",
              "      const buttonEl =\n",
              "        document.querySelector('#df-746eb2da-d410-431a-aac0-4abf785b7381 button.colab-df-convert');\n",
              "      buttonEl.style.display =\n",
              "        google.colab.kernel.accessAllowed ? 'block' : 'none';\n",
              "\n",
              "      async function convertToInteractive(key) {\n",
              "        const element = document.querySelector('#df-746eb2da-d410-431a-aac0-4abf785b7381');\n",
              "        const dataTable =\n",
              "          await google.colab.kernel.invokeFunction('convertToInteractive',\n",
              "                                                    [key], {});\n",
              "        if (!dataTable) return;\n",
              "\n",
              "        const docLinkHtml = 'Like what you see? Visit the ' +\n",
              "          '<a target=\"_blank\" href=https://colab.research.google.com/notebooks/data_table.ipynb>data table notebook</a>'\n",
              "          + ' to learn more about interactive tables.';\n",
              "        element.innerHTML = '';\n",
              "        dataTable['output_type'] = 'display_data';\n",
              "        await google.colab.output.renderOutput(dataTable, element);\n",
              "        const docLink = document.createElement('div');\n",
              "        docLink.innerHTML = docLinkHtml;\n",
              "        element.appendChild(docLink);\n",
              "      }\n",
              "    </script>\n",
              "  </div>\n",
              "\n",
              "\n",
              "    <div id=\"df-b6499f00-55b4-4787-af82-7c1fd681f642\">\n",
              "      <button class=\"colab-df-quickchart\" onclick=\"quickchart('df-b6499f00-55b4-4787-af82-7c1fd681f642')\"\n",
              "                title=\"Suggest charts\"\n",
              "                style=\"display:none;\">\n",
              "\n",
              "<svg xmlns=\"http://www.w3.org/2000/svg\" height=\"24px\"viewBox=\"0 0 24 24\"\n",
              "     width=\"24px\">\n",
              "    <g>\n",
              "        <path d=\"M19 3H5c-1.1 0-2 .9-2 2v14c0 1.1.9 2 2 2h14c1.1 0 2-.9 2-2V5c0-1.1-.9-2-2-2zM9 17H7v-7h2v7zm4 0h-2V7h2v10zm4 0h-2v-4h2v4z\"/>\n",
              "    </g>\n",
              "</svg>\n",
              "      </button>\n",
              "\n",
              "<style>\n",
              "  .colab-df-quickchart {\n",
              "      --bg-color: #E8F0FE;\n",
              "      --fill-color: #1967D2;\n",
              "      --hover-bg-color: #E2EBFA;\n",
              "      --hover-fill-color: #174EA6;\n",
              "      --disabled-fill-color: #AAA;\n",
              "      --disabled-bg-color: #DDD;\n",
              "  }\n",
              "\n",
              "  [theme=dark] .colab-df-quickchart {\n",
              "      --bg-color: #3B4455;\n",
              "      --fill-color: #D2E3FC;\n",
              "      --hover-bg-color: #434B5C;\n",
              "      --hover-fill-color: #FFFFFF;\n",
              "      --disabled-bg-color: #3B4455;\n",
              "      --disabled-fill-color: #666;\n",
              "  }\n",
              "\n",
              "  .colab-df-quickchart {\n",
              "    background-color: var(--bg-color);\n",
              "    border: none;\n",
              "    border-radius: 50%;\n",
              "    cursor: pointer;\n",
              "    display: none;\n",
              "    fill: var(--fill-color);\n",
              "    height: 32px;\n",
              "    padding: 0;\n",
              "    width: 32px;\n",
              "  }\n",
              "\n",
              "  .colab-df-quickchart:hover {\n",
              "    background-color: var(--hover-bg-color);\n",
              "    box-shadow: 0 1px 2px rgba(60, 64, 67, 0.3), 0 1px 3px 1px rgba(60, 64, 67, 0.15);\n",
              "    fill: var(--button-hover-fill-color);\n",
              "  }\n",
              "\n",
              "  .colab-df-quickchart-complete:disabled,\n",
              "  .colab-df-quickchart-complete:disabled:hover {\n",
              "    background-color: var(--disabled-bg-color);\n",
              "    fill: var(--disabled-fill-color);\n",
              "    box-shadow: none;\n",
              "  }\n",
              "\n",
              "  .colab-df-spinner {\n",
              "    border: 2px solid var(--fill-color);\n",
              "    border-color: transparent;\n",
              "    border-bottom-color: var(--fill-color);\n",
              "    animation:\n",
              "      spin 1s steps(1) infinite;\n",
              "  }\n",
              "\n",
              "  @keyframes spin {\n",
              "    0% {\n",
              "      border-color: transparent;\n",
              "      border-bottom-color: var(--fill-color);\n",
              "      border-left-color: var(--fill-color);\n",
              "    }\n",
              "    20% {\n",
              "      border-color: transparent;\n",
              "      border-left-color: var(--fill-color);\n",
              "      border-top-color: var(--fill-color);\n",
              "    }\n",
              "    30% {\n",
              "      border-color: transparent;\n",
              "      border-left-color: var(--fill-color);\n",
              "      border-top-color: var(--fill-color);\n",
              "      border-right-color: var(--fill-color);\n",
              "    }\n",
              "    40% {\n",
              "      border-color: transparent;\n",
              "      border-right-color: var(--fill-color);\n",
              "      border-top-color: var(--fill-color);\n",
              "    }\n",
              "    60% {\n",
              "      border-color: transparent;\n",
              "      border-right-color: var(--fill-color);\n",
              "    }\n",
              "    80% {\n",
              "      border-color: transparent;\n",
              "      border-right-color: var(--fill-color);\n",
              "      border-bottom-color: var(--fill-color);\n",
              "    }\n",
              "    90% {\n",
              "      border-color: transparent;\n",
              "      border-bottom-color: var(--fill-color);\n",
              "    }\n",
              "  }\n",
              "</style>\n",
              "\n",
              "      <script>\n",
              "        async function quickchart(key) {\n",
              "          const quickchartButtonEl =\n",
              "            document.querySelector('#' + key + ' button');\n",
              "          quickchartButtonEl.disabled = true;  // To prevent multiple clicks.\n",
              "          quickchartButtonEl.classList.add('colab-df-spinner');\n",
              "          try {\n",
              "            const charts = await google.colab.kernel.invokeFunction(\n",
              "                'suggestCharts', [key], {});\n",
              "          } catch (error) {\n",
              "            console.error('Error during call to suggestCharts:', error);\n",
              "          }\n",
              "          quickchartButtonEl.classList.remove('colab-df-spinner');\n",
              "          quickchartButtonEl.classList.add('colab-df-quickchart-complete');\n",
              "        }\n",
              "        (() => {\n",
              "          let quickchartButtonEl =\n",
              "            document.querySelector('#df-b6499f00-55b4-4787-af82-7c1fd681f642 button');\n",
              "          quickchartButtonEl.style.display =\n",
              "            google.colab.kernel.accessAllowed ? 'block' : 'none';\n",
              "        })();\n",
              "      </script>\n",
              "    </div>\n",
              "\n",
              "    </div>\n",
              "  </div>\n"
            ],
            "application/vnd.google.colaboratory.intrinsic+json": {
              "type": "dataframe"
            }
          },
          "metadata": {}
        }
      ]
    },
    {
      "cell_type": "markdown",
      "source": [
        "### 4) Preparar série de medidas (coluna Amount ou outra) e opcional log transform"
      ],
      "metadata": {
        "id": "j6J7dNn0Qwuv"
      }
    },
    {
      "cell_type": "code",
      "source": [
        "if MEASURE_COL not in df.columns:\n",
        "    raise ValueError(f\"Coluna {MEASURE_COL} não encontrada no dataset. Colunas disponíveis: {list(df.columns)}\")\n",
        "\n",
        "series = df[MEASURE_COL].dropna().astype(float).values\n",
        "if USE_LOG:\n",
        "    series = np.log1p(series)  # log(Amount+1)\n",
        "\n",
        "# usar apenas as primeiras MAX_OBS_TO_USE observações (para formar subgrupos)\n",
        "values = series[:MAX_OBS_TO_USE]\n",
        "m = len(values) // SUBGROUP_SIZE\n",
        "remainder = len(values) % SUBGROUP_SIZE\n",
        "if remainder:\n",
        "    print(f\"⚠️ Aviso: {remainder} observações serão descartadas para formar subgrupos completos.\")\n",
        "values_use = values[:m * SUBGROUP_SIZE]\n",
        "subgroups = values_use.reshape(m, SUBGROUP_SIZE)\n",
        "n_subgroups = subgroups.shape[0]\n",
        "print(f\"Formados {n_subgroups} subgrupos de tamanho {SUBGROUP_SIZE} (total de {m*SUBGROUP_SIZE} observações usadas).\")"
      ],
      "metadata": {
        "colab": {
          "base_uri": "https://localhost:8080/"
        },
        "id": "-8seNcoDQ_Ae",
        "outputId": "bc8f85fc-ee94-4c01-ce62-f02ae601f14a"
      },
      "execution_count": 5,
      "outputs": [
        {
          "output_type": "stream",
          "name": "stdout",
          "text": [
            "Formados 60 subgrupos de tamanho 5 (total de 300 observações usadas).\n"
          ]
        }
      ]
    },
    {
      "cell_type": "markdown",
      "source": [
        "### 5) Cálculos por subgrupo: Xbar_i, R_i, std"
      ],
      "metadata": {
        "id": "eZDlgegORIhv"
      }
    },
    {
      "cell_type": "code",
      "source": [
        "sub_mean = subgroups.mean(axis=1)\n",
        "sub_range = np.ptp(subgroups, axis=1)  # max-min\n",
        "sub_std = subgroups.std(axis=1, ddof=1)\n",
        "\n",
        "sub_df = pd.DataFrame({\n",
        "    'subgroup': np.arange(1, n_subgroups+1),\n",
        "    'mean': sub_mean,\n",
        "    'range': sub_range,\n",
        "    'std': sub_std\n",
        "})\n",
        "\n",
        "display(sub_df.head(10))"
      ],
      "metadata": {
        "colab": {
          "base_uri": "https://localhost:8080/",
          "height": 363
        },
        "id": "CO8fUoCORNRW",
        "outputId": "28169414-8a4a-4683-fa0a-50391483ac18"
      },
      "execution_count": 6,
      "outputs": [
        {
          "output_type": "display_data",
          "data": {
            "text/plain": [
              "   subgroup     mean   range         std\n",
              "0         1  144.892  375.97  142.266623\n",
              "1         2   29.268   89.53   39.114295\n",
              "2         3   45.118  113.70   47.324440\n",
              "3         4   16.334   45.91   18.072455\n",
              "4         5   58.344  230.82   97.922282\n",
              "5         6   26.060   28.89   11.943632\n",
              "6         7    7.156   15.51    5.934882\n",
              "7         8   12.226   28.72   12.775857\n",
              "8         9   14.426   27.54   10.197026\n",
              "9        10   20.280   20.91    7.442523"
            ],
            "text/html": [
              "\n",
              "  <div id=\"df-c7d0123f-c4f9-46f8-8b5a-52e9dae7fd91\" class=\"colab-df-container\">\n",
              "    <div>\n",
              "<style scoped>\n",
              "    .dataframe tbody tr th:only-of-type {\n",
              "        vertical-align: middle;\n",
              "    }\n",
              "\n",
              "    .dataframe tbody tr th {\n",
              "        vertical-align: top;\n",
              "    }\n",
              "\n",
              "    .dataframe thead th {\n",
              "        text-align: right;\n",
              "    }\n",
              "</style>\n",
              "<table border=\"1\" class=\"dataframe\">\n",
              "  <thead>\n",
              "    <tr style=\"text-align: right;\">\n",
              "      <th></th>\n",
              "      <th>subgroup</th>\n",
              "      <th>mean</th>\n",
              "      <th>range</th>\n",
              "      <th>std</th>\n",
              "    </tr>\n",
              "  </thead>\n",
              "  <tbody>\n",
              "    <tr>\n",
              "      <th>0</th>\n",
              "      <td>1</td>\n",
              "      <td>144.892</td>\n",
              "      <td>375.97</td>\n",
              "      <td>142.266623</td>\n",
              "    </tr>\n",
              "    <tr>\n",
              "      <th>1</th>\n",
              "      <td>2</td>\n",
              "      <td>29.268</td>\n",
              "      <td>89.53</td>\n",
              "      <td>39.114295</td>\n",
              "    </tr>\n",
              "    <tr>\n",
              "      <th>2</th>\n",
              "      <td>3</td>\n",
              "      <td>45.118</td>\n",
              "      <td>113.70</td>\n",
              "      <td>47.324440</td>\n",
              "    </tr>\n",
              "    <tr>\n",
              "      <th>3</th>\n",
              "      <td>4</td>\n",
              "      <td>16.334</td>\n",
              "      <td>45.91</td>\n",
              "      <td>18.072455</td>\n",
              "    </tr>\n",
              "    <tr>\n",
              "      <th>4</th>\n",
              "      <td>5</td>\n",
              "      <td>58.344</td>\n",
              "      <td>230.82</td>\n",
              "      <td>97.922282</td>\n",
              "    </tr>\n",
              "    <tr>\n",
              "      <th>5</th>\n",
              "      <td>6</td>\n",
              "      <td>26.060</td>\n",
              "      <td>28.89</td>\n",
              "      <td>11.943632</td>\n",
              "    </tr>\n",
              "    <tr>\n",
              "      <th>6</th>\n",
              "      <td>7</td>\n",
              "      <td>7.156</td>\n",
              "      <td>15.51</td>\n",
              "      <td>5.934882</td>\n",
              "    </tr>\n",
              "    <tr>\n",
              "      <th>7</th>\n",
              "      <td>8</td>\n",
              "      <td>12.226</td>\n",
              "      <td>28.72</td>\n",
              "      <td>12.775857</td>\n",
              "    </tr>\n",
              "    <tr>\n",
              "      <th>8</th>\n",
              "      <td>9</td>\n",
              "      <td>14.426</td>\n",
              "      <td>27.54</td>\n",
              "      <td>10.197026</td>\n",
              "    </tr>\n",
              "    <tr>\n",
              "      <th>9</th>\n",
              "      <td>10</td>\n",
              "      <td>20.280</td>\n",
              "      <td>20.91</td>\n",
              "      <td>7.442523</td>\n",
              "    </tr>\n",
              "  </tbody>\n",
              "</table>\n",
              "</div>\n",
              "    <div class=\"colab-df-buttons\">\n",
              "\n",
              "  <div class=\"colab-df-container\">\n",
              "    <button class=\"colab-df-convert\" onclick=\"convertToInteractive('df-c7d0123f-c4f9-46f8-8b5a-52e9dae7fd91')\"\n",
              "            title=\"Convert this dataframe to an interactive table.\"\n",
              "            style=\"display:none;\">\n",
              "\n",
              "  <svg xmlns=\"http://www.w3.org/2000/svg\" height=\"24px\" viewBox=\"0 -960 960 960\">\n",
              "    <path d=\"M120-120v-720h720v720H120Zm60-500h600v-160H180v160Zm220 220h160v-160H400v160Zm0 220h160v-160H400v160ZM180-400h160v-160H180v160Zm440 0h160v-160H620v160ZM180-180h160v-160H180v160Zm440 0h160v-160H620v160Z\"/>\n",
              "  </svg>\n",
              "    </button>\n",
              "\n",
              "  <style>\n",
              "    .colab-df-container {\n",
              "      display:flex;\n",
              "      gap: 12px;\n",
              "    }\n",
              "\n",
              "    .colab-df-convert {\n",
              "      background-color: #E8F0FE;\n",
              "      border: none;\n",
              "      border-radius: 50%;\n",
              "      cursor: pointer;\n",
              "      display: none;\n",
              "      fill: #1967D2;\n",
              "      height: 32px;\n",
              "      padding: 0 0 0 0;\n",
              "      width: 32px;\n",
              "    }\n",
              "\n",
              "    .colab-df-convert:hover {\n",
              "      background-color: #E2EBFA;\n",
              "      box-shadow: 0px 1px 2px rgba(60, 64, 67, 0.3), 0px 1px 3px 1px rgba(60, 64, 67, 0.15);\n",
              "      fill: #174EA6;\n",
              "    }\n",
              "\n",
              "    .colab-df-buttons div {\n",
              "      margin-bottom: 4px;\n",
              "    }\n",
              "\n",
              "    [theme=dark] .colab-df-convert {\n",
              "      background-color: #3B4455;\n",
              "      fill: #D2E3FC;\n",
              "    }\n",
              "\n",
              "    [theme=dark] .colab-df-convert:hover {\n",
              "      background-color: #434B5C;\n",
              "      box-shadow: 0px 1px 3px 1px rgba(0, 0, 0, 0.15);\n",
              "      filter: drop-shadow(0px 1px 2px rgba(0, 0, 0, 0.3));\n",
              "      fill: #FFFFFF;\n",
              "    }\n",
              "  </style>\n",
              "\n",
              "    <script>\n",
              "      const buttonEl =\n",
              "        document.querySelector('#df-c7d0123f-c4f9-46f8-8b5a-52e9dae7fd91 button.colab-df-convert');\n",
              "      buttonEl.style.display =\n",
              "        google.colab.kernel.accessAllowed ? 'block' : 'none';\n",
              "\n",
              "      async function convertToInteractive(key) {\n",
              "        const element = document.querySelector('#df-c7d0123f-c4f9-46f8-8b5a-52e9dae7fd91');\n",
              "        const dataTable =\n",
              "          await google.colab.kernel.invokeFunction('convertToInteractive',\n",
              "                                                    [key], {});\n",
              "        if (!dataTable) return;\n",
              "\n",
              "        const docLinkHtml = 'Like what you see? Visit the ' +\n",
              "          '<a target=\"_blank\" href=https://colab.research.google.com/notebooks/data_table.ipynb>data table notebook</a>'\n",
              "          + ' to learn more about interactive tables.';\n",
              "        element.innerHTML = '';\n",
              "        dataTable['output_type'] = 'display_data';\n",
              "        await google.colab.output.renderOutput(dataTable, element);\n",
              "        const docLink = document.createElement('div');\n",
              "        docLink.innerHTML = docLinkHtml;\n",
              "        element.appendChild(docLink);\n",
              "      }\n",
              "    </script>\n",
              "  </div>\n",
              "\n",
              "\n",
              "    <div id=\"df-723c8d2a-aabf-4dd5-a2c2-2d562e2ddf55\">\n",
              "      <button class=\"colab-df-quickchart\" onclick=\"quickchart('df-723c8d2a-aabf-4dd5-a2c2-2d562e2ddf55')\"\n",
              "                title=\"Suggest charts\"\n",
              "                style=\"display:none;\">\n",
              "\n",
              "<svg xmlns=\"http://www.w3.org/2000/svg\" height=\"24px\"viewBox=\"0 0 24 24\"\n",
              "     width=\"24px\">\n",
              "    <g>\n",
              "        <path d=\"M19 3H5c-1.1 0-2 .9-2 2v14c0 1.1.9 2 2 2h14c1.1 0 2-.9 2-2V5c0-1.1-.9-2-2-2zM9 17H7v-7h2v7zm4 0h-2V7h2v10zm4 0h-2v-4h2v4z\"/>\n",
              "    </g>\n",
              "</svg>\n",
              "      </button>\n",
              "\n",
              "<style>\n",
              "  .colab-df-quickchart {\n",
              "      --bg-color: #E8F0FE;\n",
              "      --fill-color: #1967D2;\n",
              "      --hover-bg-color: #E2EBFA;\n",
              "      --hover-fill-color: #174EA6;\n",
              "      --disabled-fill-color: #AAA;\n",
              "      --disabled-bg-color: #DDD;\n",
              "  }\n",
              "\n",
              "  [theme=dark] .colab-df-quickchart {\n",
              "      --bg-color: #3B4455;\n",
              "      --fill-color: #D2E3FC;\n",
              "      --hover-bg-color: #434B5C;\n",
              "      --hover-fill-color: #FFFFFF;\n",
              "      --disabled-bg-color: #3B4455;\n",
              "      --disabled-fill-color: #666;\n",
              "  }\n",
              "\n",
              "  .colab-df-quickchart {\n",
              "    background-color: var(--bg-color);\n",
              "    border: none;\n",
              "    border-radius: 50%;\n",
              "    cursor: pointer;\n",
              "    display: none;\n",
              "    fill: var(--fill-color);\n",
              "    height: 32px;\n",
              "    padding: 0;\n",
              "    width: 32px;\n",
              "  }\n",
              "\n",
              "  .colab-df-quickchart:hover {\n",
              "    background-color: var(--hover-bg-color);\n",
              "    box-shadow: 0 1px 2px rgba(60, 64, 67, 0.3), 0 1px 3px 1px rgba(60, 64, 67, 0.15);\n",
              "    fill: var(--button-hover-fill-color);\n",
              "  }\n",
              "\n",
              "  .colab-df-quickchart-complete:disabled,\n",
              "  .colab-df-quickchart-complete:disabled:hover {\n",
              "    background-color: var(--disabled-bg-color);\n",
              "    fill: var(--disabled-fill-color);\n",
              "    box-shadow: none;\n",
              "  }\n",
              "\n",
              "  .colab-df-spinner {\n",
              "    border: 2px solid var(--fill-color);\n",
              "    border-color: transparent;\n",
              "    border-bottom-color: var(--fill-color);\n",
              "    animation:\n",
              "      spin 1s steps(1) infinite;\n",
              "  }\n",
              "\n",
              "  @keyframes spin {\n",
              "    0% {\n",
              "      border-color: transparent;\n",
              "      border-bottom-color: var(--fill-color);\n",
              "      border-left-color: var(--fill-color);\n",
              "    }\n",
              "    20% {\n",
              "      border-color: transparent;\n",
              "      border-left-color: var(--fill-color);\n",
              "      border-top-color: var(--fill-color);\n",
              "    }\n",
              "    30% {\n",
              "      border-color: transparent;\n",
              "      border-left-color: var(--fill-color);\n",
              "      border-top-color: var(--fill-color);\n",
              "      border-right-color: var(--fill-color);\n",
              "    }\n",
              "    40% {\n",
              "      border-color: transparent;\n",
              "      border-right-color: var(--fill-color);\n",
              "      border-top-color: var(--fill-color);\n",
              "    }\n",
              "    60% {\n",
              "      border-color: transparent;\n",
              "      border-right-color: var(--fill-color);\n",
              "    }\n",
              "    80% {\n",
              "      border-color: transparent;\n",
              "      border-right-color: var(--fill-color);\n",
              "      border-bottom-color: var(--fill-color);\n",
              "    }\n",
              "    90% {\n",
              "      border-color: transparent;\n",
              "      border-bottom-color: var(--fill-color);\n",
              "    }\n",
              "  }\n",
              "</style>\n",
              "\n",
              "      <script>\n",
              "        async function quickchart(key) {\n",
              "          const quickchartButtonEl =\n",
              "            document.querySelector('#' + key + ' button');\n",
              "          quickchartButtonEl.disabled = true;  // To prevent multiple clicks.\n",
              "          quickchartButtonEl.classList.add('colab-df-spinner');\n",
              "          try {\n",
              "            const charts = await google.colab.kernel.invokeFunction(\n",
              "                'suggestCharts', [key], {});\n",
              "          } catch (error) {\n",
              "            console.error('Error during call to suggestCharts:', error);\n",
              "          }\n",
              "          quickchartButtonEl.classList.remove('colab-df-spinner');\n",
              "          quickchartButtonEl.classList.add('colab-df-quickchart-complete');\n",
              "        }\n",
              "        (() => {\n",
              "          let quickchartButtonEl =\n",
              "            document.querySelector('#df-723c8d2a-aabf-4dd5-a2c2-2d562e2ddf55 button');\n",
              "          quickchartButtonEl.style.display =\n",
              "            google.colab.kernel.accessAllowed ? 'block' : 'none';\n",
              "        })();\n",
              "      </script>\n",
              "    </div>\n",
              "\n",
              "    </div>\n",
              "  </div>\n"
            ],
            "application/vnd.google.colaboratory.intrinsic+json": {
              "type": "dataframe",
              "summary": "{\n  \"name\": \"display(sub_df\",\n  \"rows\": 10,\n  \"fields\": [\n    {\n      \"column\": \"subgroup\",\n      \"properties\": {\n        \"dtype\": \"number\",\n        \"std\": 3,\n        \"min\": 1,\n        \"max\": 10,\n        \"num_unique_values\": 10,\n        \"samples\": [\n          9,\n          2,\n          6\n        ],\n        \"semantic_type\": \"\",\n        \"description\": \"\"\n      }\n    },\n    {\n      \"column\": \"mean\",\n      \"properties\": {\n        \"dtype\": \"number\",\n        \"std\": 40.907182078456586,\n        \"min\": 7.156000000000001,\n        \"max\": 144.892,\n        \"num_unique_values\": 10,\n        \"samples\": [\n          14.426000000000002,\n          29.268,\n          26.060000000000002\n        ],\n        \"semantic_type\": \"\",\n        \"description\": \"\"\n      }\n    },\n    {\n      \"column\": \"range\",\n      \"properties\": {\n        \"dtype\": \"number\",\n        \"std\": 117.95829658541757,\n        \"min\": 15.510000000000002,\n        \"max\": 375.97,\n        \"num_unique_values\": 10,\n        \"samples\": [\n          27.54,\n          89.53,\n          28.89\n        ],\n        \"semantic_type\": \"\",\n        \"description\": \"\"\n      }\n    },\n    {\n      \"column\": \"std\",\n      \"properties\": {\n        \"dtype\": \"number\",\n        \"std\": 45.923543004796,\n        \"min\": 5.934882475668748,\n        \"max\": 142.26662282489173,\n        \"num_unique_values\": 10,\n        \"samples\": [\n          10.19702554669743,\n          39.11429495721481,\n          11.94363219460479\n        ],\n        \"semantic_type\": \"\",\n        \"description\": \"\"\n      }\n    }\n  ]\n}"
            }
          },
          "metadata": {}
        }
      ]
    },
    {
      "cell_type": "markdown",
      "source": [
        "### 6) Constantes A2, D3, D4 (tabela para n=2..10). Para n=5 usamos A2=0.577, D3=0, D4=2.114"
      ],
      "metadata": {
        "id": "Mqmau7H1RWgO"
      }
    },
    {
      "cell_type": "code",
      "source": [
        "constants = {\n",
        "  2: {'A2':1.880, 'D3':0.000, 'D4':3.267},\n",
        "  3: {'A2':1.023, 'D3':0.000, 'D4':2.574},\n",
        "  4: {'A2':0.729, 'D3':0.000, 'D4':2.282},\n",
        "  5: {'A2':0.577, 'D3':0.000, 'D4':2.114},\n",
        "  6: {'A2':0.483, 'D3':0.076, 'D4':2.004},\n",
        "  7: {'A2':0.419, 'D3':0.136, 'D4':1.924},\n",
        "  8: {'A2':0.373, 'D3':0.184, 'D4':1.864},\n",
        "  9: {'A2':0.337, 'D3':0.223, 'D4':1.816},\n",
        " 10: {'A2':0.308, 'D3':0.256, 'D4':1.777}\n",
        "}\n",
        "n = SUBGROUP_SIZE\n",
        "if n not in constants:\n",
        "    raise ValueError(f\"Constantes não definidas para n={n}. Ajuste SUBGROUP_SIZE ou acrescente constantes.\")\n",
        "A2 = constants[n]['A2']; D3 = constants[n]['D3']; D4 = constants[n]['D4']"
      ],
      "metadata": {
        "id": "2lBXCJoJRZEy"
      },
      "execution_count": 7,
      "outputs": []
    },
    {
      "cell_type": "markdown",
      "source": [
        "### 7) Estatísticas gerais e limites"
      ],
      "metadata": {
        "id": "J2w3neK_Rd1g"
      }
    },
    {
      "cell_type": "code",
      "source": [
        "Xbar_bar = sub_df['mean'].mean()\n",
        "R_bar = sub_df['range'].mean()\n",
        "S_bar = sub_df['std'].mean()\n",
        "\n",
        "UCL_Xbar = Xbar_bar + A2 * R_bar\n",
        "LCL_Xbar = Xbar_bar - A2 * R_bar\n",
        "UCL_R = D4 * R_bar\n",
        "LCL_R = D3 * R_bar\n",
        "\n",
        "print(\"\\n📐 Estatísticas gerais:\")\n",
        "print(f\"X̄-bar = {Xbar_bar:.6f}\")\n",
        "print(f\"R̄     = {R_bar:.6f}\")\n",
        "print(f\"S̄     = {S_bar:.6f}\")\n",
        "print(f\"Limites X̄: LCL = {LCL_Xbar:.6f} | CL = {Xbar_bar:.6f} | UCL = {UCL_Xbar:.6f}\")\n",
        "print(f\"Limites R : LCL = {LCL_R:.6f} | CL = {R_bar:.6f} | UCL = {UCL_R:.6f}\")"
      ],
      "metadata": {
        "colab": {
          "base_uri": "https://localhost:8080/"
        },
        "id": "BThTgVNfRkuI",
        "outputId": "8777c336-0b77-4f7b-b311-2b1d1cb342a0"
      },
      "execution_count": 8,
      "outputs": [
        {
          "output_type": "stream",
          "name": "stdout",
          "text": [
            "\n",
            "📐 Estatísticas gerais:\n",
            "X̄-bar = 85.554733\n",
            "R̄     = 301.015833\n",
            "S̄     = 130.855734\n",
            "Limites X̄: LCL = -88.131402 | CL = 85.554733 | UCL = 259.240869\n",
            "Limites R : LCL = 0.000000 | CL = 301.015833 | UCL = 636.347472\n"
          ]
        }
      ]
    },
    {
      "cell_type": "markdown",
      "source": [
        "### 8) Detectar pontos fora de controle"
      ],
      "metadata": {
        "id": "jL1-mj43RpC4"
      }
    },
    {
      "cell_type": "code",
      "source": [
        "sub_df['ooc_Xbar'] = (sub_df['mean'] < LCL_Xbar) | (sub_df['mean'] > UCL_Xbar)\n",
        "sub_df['ooc_R'] = (sub_df['range'] < LCL_R) | (sub_df['range'] > UCL_R)\n",
        "ooc_x_idx = sub_df.loc[sub_df['ooc_Xbar'], 'subgroup'].tolist()\n",
        "ooc_r_idx = sub_df.loc[sub_df['ooc_R'], 'subgroup'].tolist()\n",
        "\n",
        "print(\"\\n🔎 Pontos fora de controle (X̄):\", ooc_x_idx if ooc_x_idx else \"Nenhum\")\n",
        "print(\"🔎 Pontos fora de controle (R) : \", ooc_r_idx if ooc_r_idx else \"Nenhum\")\n",
        "\n",
        "# salvar sub_df\n",
        "csv_out = os.path.join(OUTPUT_DIR, \"subgroup_stats_creditcard_amount.csv\")\n",
        "sub_df.to_csv(csv_out, index=False)\n",
        "print(\"Subgrupos salvos em:\", csv_out)"
      ],
      "metadata": {
        "colab": {
          "base_uri": "https://localhost:8080/"
        },
        "id": "lGGND92eRuAr",
        "outputId": "dea601ca-4416-4074-ed9c-d978e870d747"
      },
      "execution_count": 9,
      "outputs": [
        {
          "output_type": "stream",
          "name": "stdout",
          "text": [
            "\n",
            "🔎 Pontos fora de controle (X̄): [11, 18, 29, 33]\n",
            "🔎 Pontos fora de controle (R) :  [11, 18, 29, 31, 33, 35, 49]\n",
            "Subgrupos salvos em: /content/cep_outputs/subgroup_stats_creditcard_amount.csv\n"
          ]
        }
      ]
    },
    {
      "cell_type": "markdown",
      "source": [
        "### 9) Plot Carta X̄"
      ],
      "metadata": {
        "id": "Gal2Wk8nRyQ-"
      }
    },
    {
      "cell_type": "code",
      "source": [
        "plt.figure(figsize=(12,5))\n",
        "plt.plot(sub_df['subgroup'], sub_df['mean'], marker='o', linestyle='-', label='Média do subgrupo')\n",
        "plt.axhline(Xbar_bar, color='green', linestyle='--', linewidth=2, label='CL (X̄-bar)')\n",
        "plt.axhline(UCL_Xbar, color='red', linestyle='--', linewidth=2, label='UCL')\n",
        "plt.axhline(LCL_Xbar, color='red', linestyle='--', linewidth=2, label='LCL')\n",
        "# opcional: linhas LIE/LSE (±1 vezes A2*R_bar/2) - se desejar, substitua por outra regra de zones\n",
        "# destacar pontos fora de controle\n",
        "if sub_df['ooc_Xbar'].any():\n",
        "    plt.scatter(sub_df.loc[sub_df['ooc_Xbar'], 'subgroup'], sub_df.loc[sub_df['ooc_Xbar'], 'mean'],\n",
        "                color='red', s=120, label='Fora de controle (X̄)')\n",
        "plt.title(f\"Carta X̄ para '{MEASURE_COL}' (n={n}) {'[log]' if USE_LOG else ''}\")\n",
        "plt.xlabel(\"Subgrupo\")\n",
        "plt.ylabel(\"Média do subgrupo\")\n",
        "plt.legend()\n",
        "plt.grid(True)\n",
        "plt.tight_layout()\n",
        "xbar_png = os.path.join(OUTPUT_DIR, \"Xbar_chart_amount.png\")\n",
        "plt.savefig(xbar_png, dpi=150)\n",
        "plt.show()\n",
        "print(\"Gráfico X̄ salvo em:\", xbar_png)"
      ],
      "metadata": {
        "colab": {
          "base_uri": "https://localhost:8080/",
          "height": 518
        },
        "id": "0L-owuAVR15b",
        "outputId": "74e5b30d-a32d-41c4-bcd4-271ef0355264"
      },
      "execution_count": 10,
      "outputs": [
        {
          "output_type": "display_data",
          "data": {
            "text/plain": [
              "<Figure size 1200x500 with 1 Axes>"
            ],
            "image/png": "[encoded data removed]"
          },
          "metadata": {}
        },
        {
          "output_type": "stream",
          "name": "stdout",
          "text": [
            "Gráfico X̄ salvo em: /content/cep_outputs/Xbar_chart_amount.png\n"
          ]
        }
      ]
    },
    {
      "cell_type": "markdown",
      "source": [
        "### 10) Plot Carta R"
      ],
      "metadata": {
        "id": "0P4tcsElR60G"
      }
    },
    {
      "cell_type": "code",
      "source": [
        "plt.figure(figsize=(12,4))\n",
        "plt.plot(sub_df['subgroup'], sub_df['range'], marker='s', linestyle='-', label='Amplitude do subgrupo (R)')\n",
        "plt.axhline(R_bar, color='green', linestyle='--', linewidth=2, label='R̄ (CL)')\n",
        "plt.axhline(UCL_R, color='red', linestyle='--', linewidth=2, label='UCL_R')\n",
        "plt.axhline(LCL_R, color='red', linestyle='--', linewidth=2, label='LCL_R')\n",
        "if sub_df['ooc_R'].any():\n",
        "    plt.scatter(sub_df.loc[sub_df['ooc_R'], 'subgroup'], sub_df.loc[sub_df['ooc_R'], 'range'],\n",
        "                color='red', s=120, label='Fora de controle (R)')\n",
        "plt.title(f\"Carta R para '{MEASURE_COL}' (n={n}) {'[log]' if USE_LOG else ''}\")\n",
        "plt.xlabel(\"Subgrupo\")\n",
        "plt.ylabel(\"Amplitude (R)\")\n",
        "plt.legend()\n",
        "plt.grid(True)\n",
        "plt.tight_layout()\n",
        "r_png = os.path.join(OUTPUT_DIR, \"R_chart_amount.png\")\n",
        "plt.savefig(r_png, dpi=150)\n",
        "plt.show()\n",
        "print(\"Gráfico R salvo em:\", r_png)"
      ],
      "metadata": {
        "colab": {
          "base_uri": "https://localhost:8080/",
          "height": 418
        },
        "id": "fWWRy-LJR-NC",
        "outputId": "08d054f5-3e21-466e-a07e-3f5161be8fe5"
      },
      "execution_count": 11,
      "outputs": [
        {
          "output_type": "display_data",
          "data": {
            "text/plain": [
              "<Figure size 1200x400 with 1 Axes>"
            ],
            "image/png": "[encoded data removed]"
          },
          "metadata": {}
        },
        {
          "output_type": "stream",
          "name": "stdout",
          "text": [
            "Gráfico R salvo em: /content/cep_outputs/R_chart_amount.png\n"
          ]
        }
      ]
    },
    {
      "cell_type": "markdown",
      "source": [
        "### 11) Relatório resumido automático e recomendações"
      ],
      "metadata": {
        "id": "hWHGKgepSEf3"
      }
    },
    {
      "cell_type": "code",
      "source": [
        "print(\"\\n\" + \"=\"*60)\n",
        "print(\"RELATÓRIO RESUMIDO - CEP (base: creditcard.csv - coluna: {})\".format(MEASURE_COL))\n",
        "print(\"=\"*60)\n",
        "print(f\"Número de subgrupos: {n_subgroups}\")\n",
        "print(f\"Tamanho do subgrupo (n): {n}\")\n",
        "print(f\"X̄-bar = {Xbar_bar:.6f}; R̄ = {R_bar:.6f}\")\n",
        "print(f\"Limites X̄: LCL={LCL_Xbar:.6f}, CL={Xbar_bar:.6f}, UCL={UCL_Xbar:.6f}\")\n",
        "print(f\"Limites R:  LCL={LCL_R:.6f}, CL={R_bar:.6f}, UCL={UCL_R:.6f}\")\n",
        "print(\"-\"*60)\n",
        "print(\"Pontos fora de controle (X̄):\", ooc_x_idx if ooc_x_idx else \"Nenhum\")\n",
        "print(\"Pontos fora de controle (R) : \", ooc_r_idx if ooc_r_idx else \"Nenhum\")\n",
        "print(\"-\"*60)\n",
        "\n",
        "print(\"\\nInterpretação e Recomendações:\")\n",
        "if (not ooc_x_idx) and (not ooc_r_idx):\n",
        "    print(\"→ Processo aparenta estar sob controle estatístico no recorte analisado.\")\n",
        "else:\n",
        "    print(\"→ Foram detectados pontos fora de controle. Recomendações iniciais:\")\n",
        "    if ooc_x_idx:\n",
        "        print(f\"   - Investigar subgrupos {ooc_x_idx}: verificar eventos, horários, lote, operações.\")\n",
        "    if ooc_r_idx:\n",
        "        print(f\"   - Investigar variabilidade nos subgrupos {ooc_r_idx}: checar estabilidade do equipamento.\")\n",
        "    print(\"   - Verificar calibração de instrumentos e outliers nos dados.\")\n",
        "print(\"\\nObservação: 'Amount' é uma variável transacional e apresenta alta assimetria; interpretar limites com cautela. Pode ser interessante monitorar também log(Amount+1).\")\n"
      ],
      "metadata": {
        "colab": {
          "base_uri": "https://localhost:8080/"
        },
        "id": "QMfp0V6rSJZZ",
        "outputId": "73c4c777-f1dd-4f82-c596-4c15706f458b"
      },
      "execution_count": 12,
      "outputs": [
        {
          "output_type": "stream",
          "name": "stdout",
          "text": [
            "\n",
            "============================================================\n",
            "RELATÓRIO RESUMIDO - CEP (base: creditcard.csv - coluna: Amount)\n",
            "============================================================\n",
            "Número de subgrupos: 60\n",
            "Tamanho do subgrupo (n): 5\n",
            "X̄-bar = 85.554733; R̄ = 301.015833\n",
            "Limites X̄: LCL=-88.131402, CL=85.554733, UCL=259.240869\n",
            "Limites R:  LCL=0.000000, CL=301.015833, UCL=636.347472\n",
            "------------------------------------------------------------\n",
            "Pontos fora de controle (X̄): [11, 18, 29, 33]\n",
            "Pontos fora de controle (R) :  [11, 18, 29, 31, 33, 35, 49]\n",
            "------------------------------------------------------------\n",
            "\n",
            "Interpretação e Recomendações:\n",
            "→ Foram detectados pontos fora de controle. Recomendações iniciais:\n",
            "   - Investigar subgrupos [11, 18, 29, 33]: verificar eventos, horários, lote, operações.\n",
            "   - Investigar variabilidade nos subgrupos [11, 18, 29, 31, 33, 35, 49]: checar estabilidade do equipamento.\n",
            "   - Verificar calibração de instrumentos e outliers nos dados.\n",
            "\n",
            "Observação: 'Amount' é uma variável transacional e apresenta alta assimetria; interpretar limites com cautela. Pode ser interessante monitorar também log(Amount+1).\n"
          ]
        }
      ]
    },
    {
      "cell_type": "markdown",
      "source": [
        "# TIRAR OS PONTOS FORA DE CONTROLE"
      ],
      "metadata": {
        "id": "LTaBieiJS4bT"
      }
    }
  ]
}